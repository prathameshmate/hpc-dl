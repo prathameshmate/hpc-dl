{
  "cells": [
    {
      "cell_type": "code",
      "execution_count": 1,
      "metadata": {
        "colab": {
          "base_uri": "https://localhost:8080/",
          "height": 1000
        },
        "id": "6Xs0VCO_jZza",
        "outputId": "2a049c46-77bb-4b27-aa83-721034bb4265"
      },
      "outputs": [
        {
          "name": "stdout",
          "output_type": "stream",
          "text": [
            "Downloading data from https://storage.googleapis.com/tensorflow/tf-keras-datasets/mnist.npz\n",
            "11490434/11490434 [==============================] - 87s 8us/step\n"
          ]
        },
        {
          "data": {
            "image/png": "[encoded data removed]",
            "text/plain": [
              "<Figure size 432x288 with 1 Axes>"
            ]
          },
          "metadata": {
            "needs_background": "light"
          },
          "output_type": "display_data"
        },
        {
          "name": "stdout",
          "output_type": "stream",
          "text": [
            "[[  0   0   0   0   0   0   0   0   0   0   0   0   0   0   0   0   0   0\n",
            "    0   0   0   0   0   0   0   0   0   0]\n",
            " [  0   0   0   0   0   0   0   0   0   0   0   0   0   0   0   0   0   0\n",
            "    0   0   0   0   0   0   0   0   0   0]\n",
            " [  0   0   0   0   0   0   0   0   0   0   0   0   0   0   0   0   0   0\n",
            "    0   0   0   0   0   0   0   0   0   0]\n",
            " [  0   0   0   0   0   0   0   0   0   0   0   0   0   0   0   0   0   0\n",
            "    0   0   0   0   0   0   0   0   0   0]\n",
            " [  0   0   0   0   0   0   0   0   0   0   0   0   0   0   0   0   0   0\n",
            "    0   0   0   0   0   0   0   0   0   0]\n",
            " [  0   0   0   0   0   0   0   0   0   0   0   0   3  18  18  18 126 136\n",
            "  175  26 166 255 247 127   0   0   0   0]\n",
            " [  0   0   0   0   0   0   0   0  30  36  94 154 170 253 253 253 253 253\n",
            "  225 172 253 242 195  64   0   0   0   0]\n",
            " [  0   0   0   0   0   0   0  49 238 253 253 253 253 253 253 253 253 251\n",
            "   93  82  82  56  39   0   0   0   0   0]\n",
            " [  0   0   0   0   0   0   0  18 219 253 253 253 253 253 198 182 247 241\n",
            "    0   0   0   0   0   0   0   0   0   0]\n",
            " [  0   0   0   0   0   0   0   0  80 156 107 253 253 205  11   0  43 154\n",
            "    0   0   0   0   0   0   0   0   0   0]\n",
            " [  0   0   0   0   0   0   0   0   0  14   1 154 253  90   0   0   0   0\n",
            "    0   0   0   0   0   0   0   0   0   0]\n",
            " [  0   0   0   0   0   0   0   0   0   0   0 139 253 190   2   0   0   0\n",
            "    0   0   0   0   0   0   0   0   0   0]\n",
            " [  0   0   0   0   0   0   0   0   0   0   0  11 190 253  70   0   0   0\n",
            "    0   0   0   0   0   0   0   0   0   0]\n",
            " [  0   0   0   0   0   0   0   0   0   0   0   0  35 241 225 160 108   1\n",
            "    0   0   0   0   0   0   0   0   0   0]\n",
            " [  0   0   0   0   0   0   0   0   0   0   0   0   0  81 240 253 253 119\n",
            "   25   0   0   0   0   0   0   0   0   0]\n",
            " [  0   0   0   0   0   0   0   0   0   0   0   0   0   0  45 186 253 253\n",
            "  150  27   0   0   0   0   0   0   0   0]\n",
            " [  0   0   0   0   0   0   0   0   0   0   0   0   0   0   0  16  93 252\n",
            "  253 187   0   0   0   0   0   0   0   0]\n",
            " [  0   0   0   0   0   0   0   0   0   0   0   0   0   0   0   0   0 249\n",
            "  253 249  64   0   0   0   0   0   0   0]\n",
            " [  0   0   0   0   0   0   0   0   0   0   0   0   0   0  46 130 183 253\n",
            "  253 207   2   0   0   0   0   0   0   0]\n",
            " [  0   0   0   0   0   0   0   0   0   0   0   0  39 148 229 253 253 253\n",
            "  250 182   0   0   0   0   0   0   0   0]\n",
            " [  0   0   0   0   0   0   0   0   0   0  24 114 221 253 253 253 253 201\n",
            "   78   0   0   0   0   0   0   0   0   0]\n",
            " [  0   0   0   0   0   0   0   0  23  66 213 253 253 253 253 198  81   2\n",
            "    0   0   0   0   0   0   0   0   0   0]\n",
            " [  0   0   0   0   0   0  18 171 219 253 253 253 253 195  80   9   0   0\n",
            "    0   0   0   0   0   0   0   0   0   0]\n",
            " [  0   0   0   0  55 172 226 253 253 253 253 244 133  11   0   0   0   0\n",
            "    0   0   0   0   0   0   0   0   0   0]\n",
            " [  0   0   0   0 136 253 253 253 212 135 132  16   0   0   0   0   0   0\n",
            "    0   0   0   0   0   0   0   0   0   0]\n",
            " [  0   0   0   0   0   0   0   0   0   0   0   0   0   0   0   0   0   0\n",
            "    0   0   0   0   0   0   0   0   0   0]\n",
            " [  0   0   0   0   0   0   0   0   0   0   0   0   0   0   0   0   0   0\n",
            "    0   0   0   0   0   0   0   0   0   0]\n",
            " [  0   0   0   0   0   0   0   0   0   0   0   0   0   0   0   0   0   0\n",
            "    0   0   0   0   0   0   0   0   0   0]]\n"
          ]
        }
      ],
      "source": [
        "#plant disease detection system using CNN\n",
        "import numpy as np\n",
        "from tensorflow.keras.models import Sequential\n",
        "from tensorflow.keras.layers import Dense, Dropout\n",
        "from tensorflow.keras.optimizers import RMSprop\n",
        "from tensorflow.keras.datasets import mnist\n",
        "import matplotlib.pyplot as plt\n",
        "from sklearn import metrics\n",
        "\n",
        "# Load the OCR dataset\n",
        "\n",
        "# The MNIST dataset is a built-in dataset provided by Keras.\n",
        "# It consists of 70,000 28x28 grayscale images, each of which displays a single handwritten digit from 0 to 9.\n",
        "# The training set consists of 60,000 images, while the test set has 10,000 images.\n",
        "\n",
        "(x_train, y_train), (x_test, y_test) = mnist.load_data()\n",
        "\n",
        "# X_train and X_test are our array of images while y_train and y_test are our array of labels for each image.\n",
        "# The first tuple contains the training set features (X_train) and the training set labels (y_train). \n",
        "# The second tuple contains the testing set features (X_test) and the testing set labels (y_test).\n",
        "# For example, if the image shows a handwritten 7, then the label will be the intger 7.\n",
        "\n",
        "plt.imshow(x_train[0], cmap='gray')  # imshow() function which simply displays an image.\n",
        "plt.show() # cmap is responsible for mapping a specific colormap to the values found in the array that you passed as the first argument.\n",
        "\n",
        "# image appears black and white and that each axis of the plot ranges from 0 to 28.\n",
        "\n",
        "# This is because of the format that all the images in the dataset have:\n",
        "\n",
        "# 1. All the images are grayscale, meaning they only contain black, white and grey.\n",
        "# 2. The images are 28 pixels by 25 pixels in size (28x28).\n",
        "\n",
        "print(x_train[0])\n",
        "\n",
        "# image data is just an array of digits. You can almost make out a 5 from the pattern of the digits in the array.\n",
        "# Array of 28 values\n",
        "# a grayscale pixel is stored as a digit between 0 and 255 where 0 is black, 255 is white and values in between are different shades of gray.\n",
        "# Therefore, each value in the [28][28] array tells the computer which color to put in that position when we display the actual image."
      ]
    },
    {
      "cell_type": "code",
      "execution_count": 2,
      "metadata": {
        "colab": {
          "base_uri": "https://localhost:8080/"
        },
        "id": "ge9eMWxzot0z",
        "outputId": "d6068c8f-0353-48ec-d668-0307e5dc67d1"
      },
      "outputs": [
        {
          "name": "stdout",
          "output_type": "stream",
          "text": [
            "X_train shape (60000, 28, 28)\n",
            "y_train shape (60000,)\n",
            "X_test shape (10000, 28, 28)\n",
            "y_test shape (10000,)\n"
          ]
        }
      ],
      "source": [
        "# reformat our X_train array and our X_test array because they do not have the correct shape.\n",
        "# Reshape the data to fit the model\n",
        "print(\"X_train shape\", x_train.shape)\n",
        "print(\"y_train shape\", y_train.shape)\n",
        "print(\"X_test shape\", x_test.shape)\n",
        "print(\"y_test shape\", y_test.shape)\n",
        "\n",
        "\n",
        "# Here you can see that for the training sets we have 60,000 elements and the testing sets have 10,000 elements.\n",
        "\n",
        "# y_train and y_test only have 1 dimensional shapes because they are just the labels of each element.\n",
        "\n",
        "# x_train and x_test have 3 dimensional shapes because they have a width and height (28x28 pixels) for each element.\n",
        "\n",
        "# (60000, 28, 28) 1st parameter in the tuple shows us how much image we have 2nd and 3rd parameters are the pixel values from x to y (28x28) \n",
        "# The pixel value varies between 0 to 255.\n",
        "# (60000,) Training labels with integers from 0-9 with dtype of uint8. It has the shape (60000,).\n",
        "# (10000, 28, 28) Testing data that consists of grayscale images. It has the shape (10000, 28, 28) and the dtype of uint8. The pixel value varies between 0 to 255.\n",
        "# (10000,) Testing labels that consist of integers from 0-9 with dtype uint8. It has the shape (10000,)."
      ]
    },
    {
      "cell_type": "code",
      "execution_count": 3,
      "metadata": {
        "id": "ZjruSc-Gq0vV"
      },
      "outputs": [],
      "source": [
        "# X: Training data of shape (n_samples, n_features)\n",
        "# y: Training label values of shape (n_samples, n_labels)\n",
        "# 2D array of height and width, 28 pixels by 28 pixels will just become 784 pixels (28 squared).\n",
        "# Remember that X_train has 60,000 elemenets, each with 784 total pixels so will become shape (60000, 784).\n",
        "# Whereas X_test has 10,000 elements, each with each with 784 total pixels so will become shape (10000, 784).\n",
        "\n",
        "x_train = x_train.reshape(60000, 784)\n",
        "x_test = x_test.reshape(10000, 784)\n",
        "x_train = x_train.astype('float32') # use 32-bit precision when training a neural network, so at one point the training data will have to be converted to 32 bit floats. Since the dataset fits easily in RAM, we might as well convert to float immediately.\n",
        "x_test = x_test.astype('float32')\n",
        "x_train /= 255  # Each image has Intensity from 0 to 255\n",
        "x_test /= 255\n",
        "\n",
        "# Regarding the division by 255, this is the maximum value of a byte (the input feature's type before the conversion to float32), \n",
        "# so this will ensure that the input features are scaled between 0.0 and 1.0. \n",
        "# USING svm-https://mgta.gmu.edu/courses/ml-with-python/handwrittenDigitRecognition.php#:~:text=Remember%20that%20X_train%20has%2060%2C000,keras."
      ]
    },
    {
      "cell_type": "code",
      "execution_count": 4,
      "metadata": {
        "id": "EeP1nbNsrf7M"
      },
      "outputs": [],
      "source": [
        "# Convert class vectors to binary class matrices\n",
        "num_classes = 10\n",
        "y_train = np.eye(num_classes)[y_train]  # Return a 2-D array with ones on the diagonal and zeros elsewhere.\n",
        "y_test = np.eye(num_classes)[y_test] # f your particular categories is present then it mark as 1 else 0 in remain row"
      ]
    },
    {
      "cell_type": "code",
      "execution_count": 5,
      "metadata": {
        "id": "nPPFDxE5u_sm"
      },
      "outputs": [],
      "source": [
        "# Define the model architecture\n",
        "model = Sequential()\n",
        "model.add(Dense(512, activation='relu', input_shape=(784,)))  # The input_shape argument is passed to the foremost layer. It comprises of a tuple shape,\n",
        "model.add(Dropout(0.2)) # DROP OUT RATIO 20%\n",
        "model.add(Dense(512, activation='relu')) #returns a sequence of vectors of dimension 512  \n",
        "model.add(Dropout(0.2))\n",
        "model.add(Dense(num_classes, activation='softmax'))"
      ]
    },
    {
      "cell_type": "code",
      "execution_count": 6,
      "metadata": {
        "id": "fD5FPvIzwZlm"
      },
      "outputs": [],
      "source": [
        "# Compile the model\n",
        "model.compile(loss='categorical_crossentropy',  # for a multi-class classification problem  \n",
        "              optimizer=RMSprop(),\n",
        "              metrics=['accuracy'])"
      ]
    },
    {
      "cell_type": "code",
      "execution_count": 7,
      "metadata": {
        "colab": {
          "base_uri": "https://localhost:8080/"
        },
        "id": "Swa7DnVSxHFD",
        "outputId": "a11718d0-53c3-4bb0-e53e-ab6a993cb459"
      },
      "outputs": [
        {
          "name": "stdout",
          "output_type": "stream",
          "text": [
            "Epoch 1/20\n",
            "469/469 [==============================] - 12s 6ms/step - loss: 0.2528 - accuracy: 0.9224 - val_loss: 0.1055 - val_accuracy: 0.9664\n",
            "Epoch 2/20\n",
            "469/469 [==============================] - 2s 4ms/step - loss: 0.1027 - accuracy: 0.9689 - val_loss: 0.0813 - val_accuracy: 0.9737\n",
            "Epoch 3/20\n",
            "469/469 [==============================] - 2s 4ms/step - loss: 0.0751 - accuracy: 0.9769 - val_loss: 0.0751 - val_accuracy: 0.9765\n",
            "Epoch 4/20\n",
            "469/469 [==============================] - 2s 4ms/step - loss: 0.0589 - accuracy: 0.9816 - val_loss: 0.0670 - val_accuracy: 0.9794\n",
            "Epoch 5/20\n",
            "469/469 [==============================] - 2s 4ms/step - loss: 0.0477 - accuracy: 0.9854 - val_loss: 0.0595 - val_accuracy: 0.9834\n",
            "Epoch 6/20\n",
            "469/469 [==============================] - 2s 5ms/step - loss: 0.0409 - accuracy: 0.9866 - val_loss: 0.0616 - val_accuracy: 0.9833\n",
            "Epoch 7/20\n",
            "469/469 [==============================] - 2s 4ms/step - loss: 0.0319 - accuracy: 0.9899 - val_loss: 0.0685 - val_accuracy: 0.9814\n",
            "Epoch 8/20\n",
            "469/469 [==============================] - 2s 4ms/step - loss: 0.0314 - accuracy: 0.9899 - val_loss: 0.0633 - val_accuracy: 0.9832\n",
            "Epoch 9/20\n",
            "469/469 [==============================] - 2s 4ms/step - loss: 0.0275 - accuracy: 0.9909 - val_loss: 0.0635 - val_accuracy: 0.9835\n",
            "Epoch 10/20\n",
            "469/469 [==============================] - 2s 4ms/step - loss: 0.0243 - accuracy: 0.9923 - val_loss: 0.0731 - val_accuracy: 0.9832\n",
            "Epoch 11/20\n",
            "469/469 [==============================] - 2s 4ms/step - loss: 0.0212 - accuracy: 0.9930 - val_loss: 0.0672 - val_accuracy: 0.9837\n",
            "Epoch 12/20\n",
            "469/469 [==============================] - 3s 5ms/step - loss: 0.0186 - accuracy: 0.9938 - val_loss: 0.0672 - val_accuracy: 0.9857\n",
            "Epoch 13/20\n",
            "469/469 [==============================] - 2s 4ms/step - loss: 0.0171 - accuracy: 0.9944 - val_loss: 0.0762 - val_accuracy: 0.9831\n",
            "Epoch 14/20\n",
            "469/469 [==============================] - 2s 4ms/step - loss: 0.0158 - accuracy: 0.9949 - val_loss: 0.0828 - val_accuracy: 0.9845\n",
            "Epoch 15/20\n",
            "469/469 [==============================] - 2s 4ms/step - loss: 0.0147 - accuracy: 0.9950 - val_loss: 0.0799 - val_accuracy: 0.9842\n",
            "Epoch 16/20\n",
            "469/469 [==============================] - 2s 4ms/step - loss: 0.0133 - accuracy: 0.9957 - val_loss: 0.0813 - val_accuracy: 0.9836\n",
            "Epoch 17/20\n",
            "469/469 [==============================] - 2s 4ms/step - loss: 0.0138 - accuracy: 0.9957 - val_loss: 0.0837 - val_accuracy: 0.9836\n",
            "Epoch 18/20\n",
            "469/469 [==============================] - 2s 5ms/step - loss: 0.0119 - accuracy: 0.9964 - val_loss: 0.0882 - val_accuracy: 0.9841\n",
            "Epoch 19/20\n",
            "469/469 [==============================] - 2s 5ms/step - loss: 0.0105 - accuracy: 0.9966 - val_loss: 0.0887 - val_accuracy: 0.9829\n",
            "Epoch 20/20\n",
            "469/469 [==============================] - 2s 4ms/step - loss: 0.0095 - accuracy: 0.9968 - val_loss: 0.0775 - val_accuracy: 0.9854\n"
          ]
        }
      ],
      "source": [
        "# Train the model\n",
        "batch_size = 128 # batch_size argument is passed to the layer to define a batch size for the inputs.\n",
        "epochs = 20\n",
        "history = model.fit(x_train, y_train,\n",
        "                    batch_size=batch_size,\n",
        "                    epochs=epochs,\n",
        "                    verbose=1, # verbose=1 will show you an animated progress bar eg. [==========]\n",
        "                    validation_data=(x_test, y_test)) # Using validation_data means you are providing the training set and validation set yourself, \n",
        "                                                      # validation_split means you only provide a training set and keras splits it into a training set and a validation set\n"
      ]
    },
    {
      "cell_type": "code",
      "execution_count": 8,
      "metadata": {
        "colab": {
          "base_uri": "https://localhost:8080/"
        },
        "id": "yLG2AE8tyP1m",
        "outputId": "e0cc83c3-2adc-47e9-e635-b16d92eff459"
      },
      "outputs": [
        {
          "name": "stdout",
          "output_type": "stream",
          "text": [
            "Test loss: 0.07748854905366898\n",
            "Test accuracy: 0.9854000210762024\n"
          ]
        }
      ],
      "source": [
        "# Evaluate the model\n",
        "score = model.evaluate(x_test, y_test, verbose=0)\n",
        "print('Test loss:', score[0])\n",
        "print('Test accuracy:', score[1])"
      ]
    }
  ],
  "metadata": {
    "accelerator": "GPU",
    "colab": {
      "gpuType": "T4",
      "provenance": []
    },
    "gpuClass": "standard",
    "kernelspec": {
      "display_name": "Python 3",
      "name": "python3"
    },
    "language_info": {
      "codemirror_mode": {
        "name": "ipython",
        "version": 3
      },
      "file_extension": ".py",
      "mimetype": "text/x-python",
      "name": "python",
      "nbconvert_exporter": "python",
      "pygments_lexer": "ipython3",
      "version": "3.9.0"
    }
  },
  "nbformat": 4,
  "nbformat_minor": 0
}
